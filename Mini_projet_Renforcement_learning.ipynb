{
  "nbformat": 4,
  "nbformat_minor": 0,
  "metadata": {
    "accelerator": "GPU",
    "colab": {
      "name": "Mini_projet_Renforcement_learning.ipynb",
      "provenance": [],
      "collapsed_sections": [],
      "toc_visible": true,
      "include_colab_link": true
    },
    "kernelspec": {
      "display_name": "Python 3",
      "language": "python",
      "name": "python3"
    },
    "language_info": {
      "codemirror_mode": {
        "name": "ipython",
        "version": 3
      },
      "file_extension": ".py",
      "mimetype": "text/x-python",
      "name": "python",
      "nbconvert_exporter": "python",
      "pygments_lexer": "ipython3",
      "version": "3.7.4"
    }
  },
  "cells": [
    {
      "cell_type": "markdown",
      "metadata": {
        "id": "view-in-github",
        "colab_type": "text"
      },
      "source": [
        "<a href=\"https://colab.research.google.com/github/mohadi21/Renforcement-Learning/blob/main/Mini_projet_Renforcement_learning.ipynb\" target=\"_parent\"><img src=\"https://colab.research.google.com/assets/colab-badge.svg\" alt=\"Open In Colab\"/></a>"
      ]
    },
    {
      "cell_type": "markdown",
      "metadata": {
        "id": "RoxMxNDo_jSr"
      },
      "source": [
        "2020-2021\r\n",
        "Université de Paris \r\n",
        "M2 MLDS\r\n",
        "# Apprentissage par renforcement\r\n",
        "\r\n",
        "*   Mohamed BOUDJEMAI \r\n",
        "\r\n",
        "\r\n"
      ]
    },
    {
      "cell_type": "code",
      "metadata": {
        "id": "vSOSPpKPDrrY"
      },
      "source": [
        "# Importation des bibliothèques\r\n",
        "import base\r\n",
        "import numpy as np\r\n",
        "import  matplotlib.pylab as plt\r\n",
        "import pandas as pd"
      ],
      "execution_count": null,
      "outputs": []
    },
    {
      "cell_type": "code",
      "metadata": {
        "id": "UgYlIsi4eEpm"
      },
      "source": [
        "def appliquer_politique(p):\n",
        "    state = env.reset()\n",
        "    fini = False\n",
        "    while not fini:\n",
        "        env.render()\n",
        "        a = np.random.choice(4, p=p[state])\n",
        "        state, r, fini, info = env.step(a)\n",
        "        print(info, r)"
      ],
      "execution_count": null,
      "outputs": []
    },
    {
      "cell_type": "code",
      "metadata": {
        "colab": {
          "base_uri": "https://localhost:8080/",
          "height": 390
        },
        "id": "C4GERt8_eEpq",
        "outputId": "1343649f-a5e3-44ac-994b-d607b7fa5675"
      },
      "source": [
        "\n",
        "env = base.Maze()\n",
        "\n",
        "\n",
        "# Fonction V initialement nulle dans tous les états\n",
        "v = np.zeros((env.get_nb_states()))\n",
        "\n",
        "# Fonction Q initialement nulle dans tous les état-action\n",
        "q = np.zeros((env.get_nb_states(), env.get_nb_actions()))\n",
        "\n",
        "# Politique uniforme \n",
        "p = np.ones((env.get_nb_states(), env.get_nb_actions()))\n",
        "\n",
        "# Fonction V aléatoire\n",
        "va = np.random.rand((env.get_nb_states()))\n",
        "env.render_values(va, precision=3)\n",
        "env.render_values_img(va)"
      ],
      "execution_count": null,
      "outputs": [
        {
          "output_type": "stream",
          "text": [
            "■ ■■■■■ ■■■■■ ■■■■■ ■■■■■ ■\n",
            "■ 0.786 0.754 0.519 0.913 ■\n",
            "■ 0.567 ■■■■■ 0.630 ■■■■■ ■\n",
            "■ 0.733 0.499 0.152 ■■■■■ ■\n",
            "■ 0.451 ■■■■■ 0.055 0.348 ■\n",
            "■ ■■■■■ ■■■■■ ■■■■■ ■■■■■ ■\n",
            "\n"
          ],
          "name": "stdout"
        },
        {
          "output_type": "display_data",
          "data": {
            "image/png": "[encoded data removed]",
            "text/plain": [
              "<Figure size 432x288 with 1 Axes>"
            ]
          },
          "metadata": {
            "tags": [],
            "needs_background": "light"
          }
        }
      ]
    },
    {
      "cell_type": "markdown",
      "metadata": {
        "id": "Jz7bAWiIeEpv"
      },
      "source": [
        "# Exercice 1 – Prédiction\n",
        "1. Dans Maze représenter la politique suivante : dans chaque état appliquer les probabilités d'actions {W: 0.1, S:0.4, E:0.4, N:0.1}"
      ]
    },
    {
      "cell_type": "code",
      "metadata": {
        "colab": {
          "base_uri": "https://localhost:8080/"
        },
        "id": "DgjZtIcaeEpw",
        "outputId": "79ee1365-c5a2-4227-d677-6bb960126a5b"
      },
      "source": [
        "p\n",
        "va"
      ],
      "execution_count": null,
      "outputs": [
        {
          "output_type": "execute_result",
          "data": {
            "text/plain": [
              "array([0.78629047, 0.75419342, 0.51887712, 0.91315262, 0.56736587,\n",
              "       0.99530249, 0.62998548, 0.93099878, 0.73266654, 0.49890609,\n",
              "       0.15191928, 0.81158566, 0.45133025, 0.91378937, 0.05524204,\n",
              "       0.3476494 ])"
            ]
          },
          "metadata": {
            "tags": []
          },
          "execution_count": 287
        }
      ]
    },
    {
      "cell_type": "code",
      "metadata": {
        "colab": {
          "base_uri": "https://localhost:8080/"
        },
        "id": "RcL741UzeEpw",
        "outputId": "f1852071-ad74-4650-8eb7-f86439612afb"
      },
      "source": [
        "p1 = np.array([0.1,0.4,0.4,0.1])\n",
        "p2= p*p1\n",
        "p2"
      ],
      "execution_count": null,
      "outputs": [
        {
          "output_type": "execute_result",
          "data": {
            "text/plain": [
              "array([[0.1, 0.4, 0.4, 0.1],\n",
              "       [0.1, 0.4, 0.4, 0.1],\n",
              "       [0.1, 0.4, 0.4, 0.1],\n",
              "       [0.1, 0.4, 0.4, 0.1],\n",
              "       [0.1, 0.4, 0.4, 0.1],\n",
              "       [0.1, 0.4, 0.4, 0.1],\n",
              "       [0.1, 0.4, 0.4, 0.1],\n",
              "       [0.1, 0.4, 0.4, 0.1],\n",
              "       [0.1, 0.4, 0.4, 0.1],\n",
              "       [0.1, 0.4, 0.4, 0.1],\n",
              "       [0.1, 0.4, 0.4, 0.1],\n",
              "       [0.1, 0.4, 0.4, 0.1],\n",
              "       [0.1, 0.4, 0.4, 0.1],\n",
              "       [0.1, 0.4, 0.4, 0.1],\n",
              "       [0.1, 0.4, 0.4, 0.1],\n",
              "       [0.1, 0.4, 0.4, 0.1]])"
            ]
          },
          "metadata": {
            "tags": []
          },
          "execution_count": 288
        }
      ]
    },
    {
      "cell_type": "code",
      "metadata": {
        "colab": {
          "base_uri": "https://localhost:8080/"
        },
        "id": "ZS2Y7GHZeEpx",
        "outputId": "7f92bdd6-a839-4a55-a59c-8519cf1304c2"
      },
      "source": [
        "va = appliquer_politique(p2)\n",
        "#env.render_values(va, precision=3)\n",
        "#env.render_values_img(p)"
      ],
      "execution_count": null,
      "outputs": [
        {
          "output_type": "stream",
          "text": [
            "■ ■ ■ ■ ■ ■ \n",
            "■ X _ _ G ■\n",
            "■ _ ■ _ ■ ■\n",
            "■ _ _ _ ■ ■\n",
            "■ _ ■ _ F ■\n",
            "■ ■ ■ ■ ■ ■ \n",
            "\n",
            "(action 3 - new state 0) 0.0\n",
            "■ ■ ■ ■ ■ ■ \n",
            "■ X _ _ G ■\n",
            "■ _ ■ _ ■ ■\n",
            "■ _ _ _ ■ ■\n",
            "■ _ ■ _ F ■\n",
            "■ ■ ■ ■ ■ ■ \n",
            "\n",
            "(action 1 - new state 0) 0.0\n",
            "■ ■ ■ ■ ■ ■ \n",
            "■ A _ _ G ■\n",
            "■ X ■ _ ■ ■\n",
            "■ _ _ _ ■ ■\n",
            "■ _ ■ _ F ■\n",
            "■ ■ ■ ■ ■ ■ \n",
            "\n",
            "(action 1 - new state 4) 0.0\n",
            "■ ■ ■ ■ ■ ■ \n",
            "■ A _ _ G ■\n",
            "■ _ ■ _ ■ ■\n",
            "■ X _ _ ■ ■\n",
            "■ _ ■ _ F ■\n",
            "■ ■ ■ ■ ■ ■ \n",
            "\n",
            "(action 2 - new state 8) 0.0\n",
            "■ ■ ■ ■ ■ ■ \n",
            "■ A _ _ G ■\n",
            "■ _ ■ _ ■ ■\n",
            "■ _ X _ ■ ■\n",
            "■ _ ■ _ F ■\n",
            "■ ■ ■ ■ ■ ■ \n",
            "\n",
            "(action 2 - new state 9) 0.0\n",
            "■ ■ ■ ■ ■ ■ \n",
            "■ A _ _ G ■\n",
            "■ _ ■ _ ■ ■\n",
            "■ _ _ X ■ ■\n",
            "■ _ ■ _ F ■\n",
            "■ ■ ■ ■ ■ ■ \n",
            "\n",
            "(action 0 - new state 10) 0.0\n",
            "■ ■ ■ ■ ■ ■ \n",
            "■ A _ _ G ■\n",
            "■ _ ■ _ ■ ■\n",
            "■ _ X _ ■ ■\n",
            "■ _ ■ _ F ■\n",
            "■ ■ ■ ■ ■ ■ \n",
            "\n",
            "(action 1 - new state 9) 0.0\n",
            "■ ■ ■ ■ ■ ■ \n",
            "■ A _ _ G ■\n",
            "■ _ ■ _ ■ ■\n",
            "■ _ X _ ■ ■\n",
            "■ _ ■ _ F ■\n",
            "■ ■ ■ ■ ■ ■ \n",
            "\n",
            "(action 1 - new state 9) 0.0\n",
            "■ ■ ■ ■ ■ ■ \n",
            "■ A _ _ G ■\n",
            "■ _ ■ _ ■ ■\n",
            "■ _ X _ ■ ■\n",
            "■ _ ■ _ F ■\n",
            "■ ■ ■ ■ ■ ■ \n",
            "\n",
            "(action 1 - new state 9) 0.0\n",
            "■ ■ ■ ■ ■ ■ \n",
            "■ A _ _ G ■\n",
            "■ _ ■ _ ■ ■\n",
            "■ _ X _ ■ ■\n",
            "■ _ ■ _ F ■\n",
            "■ ■ ■ ■ ■ ■ \n",
            "\n",
            "(action 3 - new state 9) 0.0\n",
            "■ ■ ■ ■ ■ ■ \n",
            "■ A _ _ G ■\n",
            "■ _ ■ _ ■ ■\n",
            "■ _ X _ ■ ■\n",
            "■ _ ■ _ F ■\n",
            "■ ■ ■ ■ ■ ■ \n",
            "\n",
            "(action 1 - new state 9) 0.0\n",
            "■ ■ ■ ■ ■ ■ \n",
            "■ A _ _ G ■\n",
            "■ _ ■ _ ■ ■\n",
            "■ _ X _ ■ ■\n",
            "■ _ ■ _ F ■\n",
            "■ ■ ■ ■ ■ ■ \n",
            "\n",
            "(action 1 - new state 9) 0.0\n",
            "■ ■ ■ ■ ■ ■ \n",
            "■ A _ _ G ■\n",
            "■ _ ■ _ ■ ■\n",
            "■ _ X _ ■ ■\n",
            "■ _ ■ _ F ■\n",
            "■ ■ ■ ■ ■ ■ \n",
            "\n",
            "(action 1 - new state 9) 0.0\n",
            "■ ■ ■ ■ ■ ■ \n",
            "■ A _ _ G ■\n",
            "■ _ ■ _ ■ ■\n",
            "■ _ X _ ■ ■\n",
            "■ _ ■ _ F ■\n",
            "■ ■ ■ ■ ■ ■ \n",
            "\n",
            "(action 0 - new state 9) 0.0\n",
            "■ ■ ■ ■ ■ ■ \n",
            "■ A _ _ G ■\n",
            "■ _ ■ _ ■ ■\n",
            "■ X _ _ ■ ■\n",
            "■ _ ■ _ F ■\n",
            "■ ■ ■ ■ ■ ■ \n",
            "\n",
            "(action 0 - new state 8) 0.0\n",
            "■ ■ ■ ■ ■ ■ \n",
            "■ A _ _ G ■\n",
            "■ _ ■ _ ■ ■\n",
            "■ X _ _ ■ ■\n",
            "■ _ ■ _ F ■\n",
            "■ ■ ■ ■ ■ ■ \n",
            "\n",
            "(action 2 - new state 8) 0.0\n",
            "■ ■ ■ ■ ■ ■ \n",
            "■ A _ _ G ■\n",
            "■ _ ■ _ ■ ■\n",
            "■ _ X _ ■ ■\n",
            "■ _ ■ _ F ■\n",
            "■ ■ ■ ■ ■ ■ \n",
            "\n",
            "(action 1 - new state 9) 0.0\n",
            "■ ■ ■ ■ ■ ■ \n",
            "■ A _ _ G ■\n",
            "■ _ ■ _ ■ ■\n",
            "■ _ X _ ■ ■\n",
            "■ _ ■ _ F ■\n",
            "■ ■ ■ ■ ■ ■ \n",
            "\n",
            "(action 1 - new state 9) 0.0\n",
            "■ ■ ■ ■ ■ ■ \n",
            "■ A _ _ G ■\n",
            "■ _ ■ _ ■ ■\n",
            "■ _ X _ ■ ■\n",
            "■ _ ■ _ F ■\n",
            "■ ■ ■ ■ ■ ■ \n",
            "\n",
            "(action 2 - new state 9) 0.0\n",
            "■ ■ ■ ■ ■ ■ \n",
            "■ A _ _ G ■\n",
            "■ _ ■ _ ■ ■\n",
            "■ _ _ X ■ ■\n",
            "■ _ ■ _ F ■\n",
            "■ ■ ■ ■ ■ ■ \n",
            "\n",
            "(action 1 - new state 10) 0.0\n",
            "■ ■ ■ ■ ■ ■ \n",
            "■ A _ _ G ■\n",
            "■ _ ■ _ ■ ■\n",
            "■ _ _ _ ■ ■\n",
            "■ _ ■ X F ■\n",
            "■ ■ ■ ■ ■ ■ \n",
            "\n",
            "(action 2 - new state 14) 1000.0\n"
          ],
          "name": "stdout"
        }
      ]
    },
    {
      "cell_type": "markdown",
      "metadata": {
        "id": "2ob8VYaSeEpx"
      },
      "source": [
        "2. Comparer MC et TD(0) pour évaluer cette politique dans l'environnement Maze en fonction du nombre d'épisodes effectués. \n",
        "Pour les évaluer, on calculera l'erreur de prédiction par une distance euclidienne entre les vecteurs de valeurs calculés et le vecteur de valeurs produit par IPE. Vous pourrez donc représenter dans un graphiques l'évolution de l'erreur en fonction du nombre d'épisodes effectués."
      ]
    },
    {
      "cell_type": "code",
      "metadata": {
        "id": "n3snaVJgeEpy"
      },
      "source": [
        "\n",
        "\n",
        "def mc_prediction(policy, env, gamma, nb_episodes):\n",
        "    nba = env.get_nb_actions()\n",
        "    nbs = env.get_nb_states()\n",
        "\n",
        "    compteur = np.zeros((nbs)) # compteur d'états\n",
        "    somme = np.zeros((nbs)) # somme des valeurs d'états\n",
        "    \n",
        "    for ne in range(nb_episodes):\n",
        "        # Générer un épisode\n",
        "        episode = []\n",
        "        state = env.reset()\n",
        "        final = False\n",
        "        while not final:\n",
        "            action = np.random.choice(nba, p=policy[state])\n",
        "            ns, renf, final, _ = env.step(action)\n",
        "            episode.append([state, action, ns, renf])\n",
        "            state = ns\n",
        "        \n",
        "        # Mettre à jour les valeurs\n",
        "        retour = 0\n",
        "        for s, a, ns, r in reversed(episode):\n",
        "            retour = r + gamma * retour\n",
        "            compteur[s] += 1\n",
        "            somme[s] += retour\n",
        "        \n",
        "    v = somme.copy()\n",
        "    for s in range(nbs):\n",
        "        if compteur[s]>0:\n",
        "            v[s] /= compteur[s]\n",
        "    return v\n",
        "\n",
        "\n",
        "def td_0(policy, env, gamma, alpha, nb_episodes):\n",
        "    nba = env.get_nb_actions()\n",
        "    nbs = env.get_nb_states()\n",
        "\n",
        "    v = np.zeros((nbs)) # valeurs d'états\n",
        "    \n",
        "    for ne in range(nb_episodes):\n",
        "        state = env.reset()\n",
        "        final = False\n",
        "        while not final:\n",
        "            action = np.random.choice(nba, p=policy[state])\n",
        "            ns, renf, final, _ = env.step(action)\n",
        "            v[state] += alpha * (renf + gamma * v[ns] - v[state])\n",
        "            state = ns\n",
        "        \n",
        "    return v\n",
        "\n",
        "def ipe(policy, env, gamma, epsilon=0.001):\n",
        "    v = np.zeros((env.get_nb_states()))\n",
        "    q = np.sum(env.p()*(env.r() + gamma * v[np.newaxis, np.newaxis, :]), axis=2)\n",
        "    nv = np.sum(policy * q, axis=1)\n",
        "    delta = np.sum(np.abs(nv-v))\n",
        "\n",
        "    while delta > epsilon:\n",
        "        v = nv\n",
        "        q = np.sum(env.p()*(env.r() + gamma * v[np.newaxis, np.newaxis, :]), axis=2)\n",
        "        nv = np.sum(policy * q, axis=1)\n",
        "        delta = np.sum(np.abs(nv-v))\n",
        "    \n",
        "    return nv\n"
      ],
      "execution_count": null,
      "outputs": []
    },
    {
      "cell_type": "code",
      "metadata": {
        "id": "kI8mwTPFeEpy"
      },
      "source": [
        "env = base.Maze()\n",
        "\n",
        "p = p2\n",
        "\n",
        "#v = mc_prediction(p, env, 0.9, 1000)\n",
        "v1 = td_0(p2, env, 0.9, 0.1, 1000)\n",
        "v2 = mc_prediction(p2, env, 0.9, 1000)\n",
        "v3= ipe(p2, env, 0.9, 0.1)"
      ],
      "execution_count": null,
      "outputs": []
    },
    {
      "cell_type": "code",
      "metadata": {
        "id": "zTUYhOq5eEpz"
      },
      "source": [
        "episodes = range(1, 1000, 50)\n",
        "td_scores = []\n",
        "mc_scores = []\n",
        "\n",
        "for episode in episodes :\n",
        "    v_td = td_0(p2, env, 0.9, 0.1, episode)\n",
        "    v_mc = mc_prediction(p2, env, 0.9, episode)\n",
        "    v_ipe = ipe(p2, env, 0.9, 0.1)\n",
        "    td_scores.append(np.sqrt(np.sum((v_td - v_ipe)**2)))\n",
        "    mc_scores.append(np.sqrt(np.sum((v_mc - v_ipe)**2)))\n",
        "\n",
        "td_scores = np.array(td_scores)\n",
        "mc_scores = np.array(mc_scores)"
      ],
      "execution_count": null,
      "outputs": []
    },
    {
      "cell_type": "code",
      "metadata": {
        "colab": {
          "base_uri": "https://localhost:8080/",
          "height": 444
        },
        "id": "WUm_392peEpz",
        "outputId": "724a1b3b-c63b-4746-808c-e4de6cfecad0"
      },
      "source": [
        "plt.figure(figsize=(10, 7))\n",
        "plt.title(\" L'erreur de prédiction, TD 0 VS MC PREDICTION\")\n",
        "plt.plot(episodes, td_scores, label=\"erreur de TD 0\")\n",
        "plt.plot(episodes, mc_scores, label=\"erreur de MC PREDICTION\")\n",
        "plt.legend()\n",
        "plt.show()"
      ],
      "execution_count": null,
      "outputs": [
        {
          "output_type": "display_data",
          "data": {
            "image/png": "[encoded data removed]",
            "text/plain": [
              "<Figure size 720x504 with 1 Axes>"
            ]
          },
          "metadata": {
            "tags": [],
            "needs_background": "light"
          }
        }
      ]
    },
    {
      "cell_type": "markdown",
      "metadata": {
        "id": "K9YQkT_6hfAh"
      },
      "source": [
        " 3. Implémenter n-steps TD(0), puis TD(Lambda), et les intégrer dans la comparaison (on prendra n=2, 5 et 10)"
      ]
    },
    {
      "cell_type": "markdown",
      "metadata": {
        "id": "19RFvLu1kDxX"
      },
      "source": [
        "# Exercice 2 – Contrôle\r\n",
        "1. Comparer l'évolution du renforcement total par épisode, pour les algorithmes : MC-control, SARSA et Q-Learning dans l'environnement Maze. Vous utiliserez un epsilone0 défini de la manière suivante :\r\n",
        "𝜀𝑡= {𝜀0 𝑠𝑖 𝑡<𝑇,𝜀0√𝑡−𝑇 𝑠𝑖𝑛𝑜𝑛.\r\n",
        "Vous testerez et montrerez les résultats pour différentes valeurs de T et epsilone0"
      ]
    },
    {
      "cell_type": "code",
      "metadata": {
        "id": "1C3lQbGPhjLe"
      },
      "source": [
        "def greedy_decision(qvalues, state):\r\n",
        "    return np.argmax(qvalues[state])\r\n",
        "\r\n",
        "def greedy_policy(qvalues):\r\n",
        "    policy = np.zeros((env.get_nb_states(), env.get_nb_actions()))\r\n",
        "    for s, va in enumerate(qvalues):\r\n",
        "        policy[s, np.argmax(va)] += 1\r\n",
        "    return policy\r\n",
        "\r\n",
        "def egreedy_decision(qvalues, state, epsilon):\r\n",
        "    if np.random.rand() < epsilon:\r\n",
        "        return np.random.randint(0, len(qvalues[state]))\r\n",
        "    else:\r\n",
        "        return np.argmax(qvalues[state])\r\n",
        "\r\n",
        "def egreedy_policy(qvalues, epsilon):\r\n",
        "    nb_actions = qvalues.shape[1]\r\n",
        "    policy = np.ones((env.get_nb_states(), env.get_nb_actions())) * epsilon / nb_actions\r\n",
        "    for s, va in enumerate(qvalues):\r\n",
        "        policy[s, np.argmax(va)] += 1 - epsilon\r\n",
        "    return policy\r\n",
        "    \r\n",
        "def monte_carlo(env, gamma, nb_episodes, epsilon):\r\n",
        "    nba = env.get_nb_actions()\r\n",
        "    q = np.zeros((env.get_nb_states(), nba))\r\n",
        "    n = np.zeros((env.get_nb_states(), nba))\r\n",
        "    policy = np.ones((env.get_nb_states(), nba)) / nba\r\n",
        "    \r\n",
        "    for ne in range(nb_episodes):\r\n",
        "        state = env.reset()\r\n",
        "        episode = []\r\n",
        "        while not env.is_final(state):\r\n",
        "            action = np.random.choice(nba, p=policy[state])\r\n",
        "            nvstate, r, _, _ = env.step(action)\r\n",
        "            episode.append([state, action, nvstate, r])\r\n",
        "            state = nvstate\r\n",
        "        \r\n",
        "        g = 0 # retour\r\n",
        "        for s, a, ns, r in reversed(episode):\r\n",
        "            g = r + gamma * g\r\n",
        "            n[s, a] += 1\r\n",
        "            q[s, a] += (g - q[s,a]) / n[s,a] \r\n",
        "        \r\n",
        "        policy = egreedy_policy(q, epsilon)\r\n",
        "    return q\r\n",
        "\r\n",
        "\r\n",
        "def sarsa(env, gamma, alpha, nb_episodes, epsilon):\r\n",
        "    q = np.zeros((env.get_nb_states(), env.get_nb_actions()))\r\n",
        "\r\n",
        "    for ne in range(nb_episodes):\r\n",
        "        state = env.reset()\r\n",
        "        action = egreedy_decision(q, state, epsilon)\r\n",
        "        while not env.is_final(state):\r\n",
        "            nvstate, r, final, _ = env.step(action)\r\n",
        "            nvaction = egreedy_decision(q, nvstate, epsilon)\r\n",
        "            \r\n",
        "            if final:\r\n",
        "                target = r\r\n",
        "            else:\r\n",
        "                target = r + gamma * q[nvstate, nvaction]\r\n",
        "            \r\n",
        "            q[state, action] += alpha * (target - q[state, action])\r\n",
        "            \r\n",
        "            state = nvstate\r\n",
        "            action = nvaction\r\n",
        "    \r\n",
        "    return q\r\n",
        "\r\n",
        "def q_learning (env, gamma, alpha, nb_episodes, epsilon):\r\n",
        "    q = np.zeros((env.get_nb_states(), env.get_nb_actions()))\r\n",
        "\r\n",
        "    for ne in range(nb_episodes):\r\n",
        "        state = env.reset()\r\n",
        "        while not env.is_final(state):\r\n",
        "            action = egreedy_decision(q, state, epsilon)\r\n",
        "            nvstate, r, final, _ = env.step(action)\r\n",
        "            \r\n",
        "            if final:\r\n",
        "                target = r\r\n",
        "            else:\r\n",
        "                target = r + gamma * np.max(q[nvstate])\r\n",
        "            \r\n",
        "            q[state, action] += alpha * (target - q[state, action])\r\n",
        "            \r\n",
        "            state = nvstate\r\n",
        "    \r\n",
        "    return q"
      ],
      "execution_count": null,
      "outputs": []
    },
    {
      "cell_type": "code",
      "metadata": {
        "colab": {
          "base_uri": "https://localhost:8080/"
        },
        "id": "03UZIlYWjy3m",
        "outputId": "450565df-4861-4e85-a65a-59c8b5bf7a14"
      },
      "source": [
        "nbr_episodes = 4\r\n",
        "T = 29\r\n",
        "epsilone_0 = 0.1\r\n",
        "env = base.Maze()\r\n",
        "renf_totale=[]\r\n",
        "step_totale=[]\r\n",
        "\r\n",
        "list_episodes=[1,5,15,30,50]\r\n",
        "\r\n",
        "for episode in list_episodes:\r\n",
        "  print(\"start\")\r\n",
        "  if episode > T:\r\n",
        "    epsilone_0 = epsilone_0 / np.sqrt(episode-T)\r\n",
        "  q_mc= monte_carlo(env, 0.9, episode, epsilone_0)\r\n",
        "  q_sarsa= sarsa(env, 0.9, 0.1, episode, epsilone_0)\r\n",
        "  q_lear= q_learning(env, 0.9,0.1, episode, epsilone_0)\r\n",
        "  \r\n",
        "  g1 = greedy_policy(q_mc)\r\n",
        "  g2 = greedy_policy(q_sarsa)\r\n",
        "  g3 = greedy_policy(q_lear)\r\n",
        "\r\n",
        "  step_1,renf_1 = env.perform_episode(g1,20)\r\n",
        "  step_2,renf_2 = env.perform_episode(g2,20)\r\n",
        "  step_3,renf_3 = env.perform_episode(g3,20)\r\n",
        "\r\n",
        "  renf_totale.append([renf_1,renf_2,renf_3])\r\n",
        "  step_totale.append([step_1,step_2,step_3])"
      ],
      "execution_count": null,
      "outputs": [
        {
          "output_type": "stream",
          "text": [
            "start\n",
            "start\n",
            "start\n",
            "start\n",
            "start\n"
          ],
          "name": "stdout"
        }
      ]
    },
    {
      "cell_type": "code",
      "metadata": {
        "colab": {
          "base_uri": "https://localhost:8080/",
          "height": 512
        },
        "id": "9WRddzRQoHnf",
        "outputId": "2ba82988-b651-479d-fc2f-5c8ad493c536"
      },
      "source": [
        "columns=[\"mc\", \"sarsa\", \"lear\"]\r\n",
        "pd.DataFrame(renf_totale, columns=columns).plot.bar(figsize=(10, 8), title=\"renforcement  de défférentes méthodes en fonction épisodes\")"
      ],
      "execution_count": null,
      "outputs": [
        {
          "output_type": "execute_result",
          "data": {
            "text/plain": [
              "<matplotlib.axes._subplots.AxesSubplot at 0x7fe8b6ca7208>"
            ]
          },
          "metadata": {
            "tags": []
          },
          "execution_count": 320
        },
        {
          "output_type": "display_data",
          "data": {
            "image/png": "[encoded data removed]",
            "text/plain": [
              "<Figure size 720x576 with 1 Axes>"
            ]
          },
          "metadata": {
            "tags": [],
            "needs_background": "light"
          }
        }
      ]
    },
    {
      "cell_type": "code",
      "metadata": {
        "colab": {
          "base_uri": "https://localhost:8080/",
          "height": 512
        },
        "id": "QzWyNv8N41q0",
        "outputId": "5334e12d-ca00-4546-abfd-3c0be94e0b06"
      },
      "source": [
        "columns=[\"mc\", \"sarsa\", \"lear\"]\r\n",
        "pd.DataFrame( step_totale, columns=columns).plot.bar(figsize=(10, 8), title=\"états de défférentes méthodes en fonction épisodes\")"
      ],
      "execution_count": null,
      "outputs": [
        {
          "output_type": "execute_result",
          "data": {
            "text/plain": [
              "<matplotlib.axes._subplots.AxesSubplot at 0x7fe8b6dce240>"
            ]
          },
          "metadata": {
            "tags": []
          },
          "execution_count": 316
        },
        {
          "output_type": "display_data",
          "data": {
            "image/png": "[encoded data removed]",
            "text/plain": [
              "<Figure size 720x576 with 1 Axes>"
            ]
          },
          "metadata": {
            "tags": [],
            "needs_background": "light"
          }
        }
      ]
    },
    {
      "cell_type": "markdown",
      "metadata": {
        "id": "xuKhblg865p3"
      },
      "source": [
        "2. Tester et montrer les performances en utilisant d'autres moyens de gérer l'exploration :\r\n",
        "a. Softmax avec différentes températures\r\n",
        "b. Greedy avec une initialisation optimiste (uniquement pour SARSA et QL)"
      ]
    },
    {
      "cell_type": "code",
      "metadata": {
        "id": "8P34hnoXMd7r"
      },
      "source": [
        "from scipy.special import softmax\r\n",
        "\r\n",
        "def softmax_decision(qvalues, state):\r\n",
        "    return np.argmax(qvalues[state])\r\n",
        "\r\n",
        "def softmax_policy(qvalues, temperature):\r\n",
        "  sftm = np.round(softmax(qvalues/temperature, axis=1), 5)\r\n",
        "  return sftm/sftm.sum(axis=1).reshape((-1, 1))\r\n",
        "\r\n",
        "def monte_carlo(env, gamma, nb_episodes, epsilon=0.1, optimizer=\"greedy\", temperature=0.5):\r\n",
        "    nba = env.get_nb_actions()\r\n",
        "    q = np.zeros((env.get_nb_states(), nba))\r\n",
        "    n = np.zeros((env.get_nb_states(), nba))\r\n",
        "    policy = np.ones((env.get_nb_states(), nba)) / nba\r\n",
        "    \r\n",
        "    for ne in range(nb_episodes):\r\n",
        "        state = env.reset()\r\n",
        "        episode = []\r\n",
        "        while not env.is_final(state) :\r\n",
        "            action = np.random.choice(nba, p=policy[state])\r\n",
        "            nvstate, r, _, _ = env.step(action)\r\n",
        "            episode.append([state, action, nvstate, r])\r\n",
        "            state = nvstate\r\n",
        "            \r\n",
        "        g = 0 # retour\r\n",
        "        for s, a, ns, r in reversed(episode):\r\n",
        "            g = r + gamma * g\r\n",
        "            n[s, a] += 1\r\n",
        "            q[s, a] += (g - q[s,a]) / n[s,a]\r\n",
        "\r\n",
        "        if optimizer == \"greedy\":\r\n",
        "          policy = egreedy_policy(q, epsilon)\r\n",
        "        else:\r\n",
        "          policy = softmax_policy(q, temperature)\r\n",
        "    return q"
      ],
      "execution_count": null,
      "outputs": []
    },
    {
      "cell_type": "code",
      "metadata": {
        "colab": {
          "base_uri": "https://localhost:8080/",
          "height": 1000
        },
        "id": "XD4KNhR-dapF",
        "outputId": "ad73cb7d-5c55-4e79-9ce7-0edac3497045"
      },
      "source": [
        "import pandas as pd\r\n",
        "import time\r\n",
        "\r\n",
        "temperatures = np.arange(2, 5, 0.5)\r\n",
        "episodes = [2, 5, 10, 15, 20] #np.arange(0, 10, 4)\r\n",
        "\r\n",
        "\r\n",
        "performances = {eps: {t:0 for t in temperatures } for eps in episodes}\r\n",
        "temperatures\r\n",
        "\r\n",
        "env = base.Maze()\r\n",
        "\r\n",
        "for eps, tmp_performances in performances.items():\r\n",
        "  \r\n",
        "  start = time.time()\r\n",
        "  print(f\"start - episode : {eps}\")\r\n",
        "  \r\n",
        "  for tmp in tmp_performances.keys():\r\n",
        "     \r\n",
        "     print(f\"\\t->température : {tmp}\")\r\n",
        "     q_mc = monte_carlo(env=env, gamma=0.5, nb_episodes=eps, temperature=tmp, optimizer=\"softmax\")\r\n",
        "     g = greedy_policy(q_mc)\r\n",
        "     _,renf = env.perform_episode(g, 20)\r\n",
        "     tmp_performances[tmp] = renf\r\n",
        "  \r\n",
        "  print(f\"end - episode : {eps} {round(time.time()-start, 6)} seconds\\n\")\r\n",
        "\r\n",
        "# Visualisation\r\n",
        "df = pd.DataFrame(performances).add_prefix(\"temperature\").plot.bar(figsize=(10, 8), title=\"performance de monte carlo en fonction des différentes températures et épisodes\")"
      ],
      "execution_count": null,
      "outputs": [
        {
          "output_type": "stream",
          "text": [
            "start - episode : 2\n",
            "\t->température : 2.0\n",
            "\t->température : 2.5\n",
            "\t->température : 3.0\n",
            "\t->température : 3.5\n",
            "\t->température : 4.0\n",
            "\t->température : 4.5\n",
            "end - episode : 2 0.019574 seconds\n",
            "\n",
            "start - episode : 5\n",
            "\t->température : 2.0\n",
            "\t->température : 2.5\n",
            "\t->température : 3.0\n",
            "\t->température : 3.5\n",
            "\t->température : 4.0\n",
            "\t->température : 4.5\n",
            "end - episode : 5 0.065738 seconds\n",
            "\n",
            "start - episode : 10\n",
            "\t->température : 2.0\n",
            "\t->température : 2.5\n",
            "\t->température : 3.0\n",
            "\t->température : 3.5\n",
            "\t->température : 4.0\n",
            "\t->température : 4.5\n",
            "end - episode : 10 0.075872 seconds\n",
            "\n",
            "start - episode : 15\n",
            "\t->température : 2.0\n",
            "\t->température : 2.5\n",
            "\t->température : 3.0\n",
            "\t->température : 3.5\n",
            "\t->température : 4.0\n",
            "\t->température : 4.5\n",
            "end - episode : 15 0.0769 seconds\n",
            "\n",
            "start - episode : 20\n",
            "\t->température : 2.0\n",
            "\t->température : 2.5\n",
            "\t->température : 3.0\n",
            "\t->température : 3.5\n",
            "\t->température : 4.0\n",
            "\t->température : 4.5\n",
            "end - episode : 20 0.129791 seconds\n",
            "\n"
          ],
          "name": "stdout"
        },
        {
          "output_type": "display_data",
          "data": {
            "image/png": "[encoded data removed]",
            "text/plain": [
              "<Figure size 720x576 with 1 Axes>"
            ]
          },
          "metadata": {
            "tags": [],
            "needs_background": "light"
          }
        }
      ]
    },
    {
      "cell_type": "code",
      "metadata": {
        "colab": {
          "base_uri": "https://localhost:8080/"
        },
        "id": "bIBlQwa-OwO_",
        "outputId": "cec696e0-1a7e-4390-a869-7640383a3ddc"
      },
      "source": [
        "nbr_episodes = 4\r\n",
        "T = 29\r\n",
        "epsilon = 0.1\r\n",
        "\r\n",
        "env = base.Maze()\r\n",
        "renf_totale=[]\r\n",
        "step_totale=[]\r\n",
        "\r\n",
        "list_episodes=[1, 5, 20]\r\n",
        "\r\n",
        "for episode in list_episodes:\r\n",
        "  print(\"start\")\r\n",
        "\r\n",
        "  q_mc_egreedy= monte_carlo(env=env, gamma=0.9, nb_episodes=episode, epsilon=epsilon, optimizer=\"greedy\")\r\n",
        "  q_mc_softmax= monte_carlo(env=env, gamma=0.9, nb_episodes=episode, temperature=T, optimizer=\"softmax\")\r\n",
        "  \r\n",
        "  g_greedy = greedy_policy(q_mc_egreedy)\r\n",
        "  g_softmax = greedy_policy(q_mc_softmax)\r\n",
        "\r\n",
        "  step_1,renf_1 = env.perform_episode(g_greedy, 20)\r\n",
        "  step_2,renf_2 = env.perform_episode(g_softmax, 20)\r\n",
        "\r\n",
        "  renf_totale.append([renf_1,renf_2])\r\n",
        "  step_totale.append([step_1,step_2])"
      ],
      "execution_count": null,
      "outputs": [
        {
          "output_type": "stream",
          "text": [
            "start\n",
            "start\n",
            "start\n"
          ],
          "name": "stdout"
        }
      ]
    },
    {
      "cell_type": "code",
      "metadata": {
        "id": "KOfSYLBYbTNM",
        "colab": {
          "base_uri": "https://localhost:8080/"
        },
        "outputId": "1ae424d5-dc9a-4096-d2b7-aef20d3ea395"
      },
      "source": [
        "renf_totale"
      ],
      "execution_count": null,
      "outputs": [
        {
          "output_type": "execute_result",
          "data": {
            "text/plain": [
              "[[400.0, 400.0], [1000.0, 400.0], [400.0, 400.0]]"
            ]
          },
          "metadata": {
            "tags": []
          },
          "execution_count": 299
        }
      ]
    },
    {
      "cell_type": "markdown",
      "metadata": {
        "id": "kwV80hP1ClEn"
      },
      "source": [
        "3. Reproduire ces tests dans les environnements FrozenLake44 et FoorRooms_Key"
      ]
    },
    {
      "cell_type": "code",
      "metadata": {
        "colab": {
          "base_uri": "https://localhost:8080/"
        },
        "id": "WEc4ysbHCmhP",
        "outputId": "fd9709f5-95f4-4e4b-cb52-5a1f7a4f4e38"
      },
      "source": [
        "env = base.Maze()\r\n",
        "env2 = base.FrozenLake44()\r\n",
        "env3 = base.FoorRooms_Key()\r\n",
        "T = 29\r\n",
        "epsilone_0 = 0.1\r\n",
        "renf_totale=[]\r\n",
        "step_totale=[]\r\n",
        "\r\n",
        "list_episodes=[1,5,15,30,50]\r\n",
        "\r\n",
        "for episode in list_episodes:\r\n",
        "  print(\"start\")\r\n",
        "  if episode > T:\r\n",
        "    epsilone_0 = epsilone_0 / np.sqrt(episode-T)\r\n",
        "  q_mc= monte_carlo(env2, 0.9, episode, epsilone_0)\r\n",
        "  q_sarsa= sarsa(env2, 0.9, 0.1, episode, epsilone_0)\r\n",
        "  q_lear= q_learning(env2, 0.9,0.1, episode, epsilone_0)\r\n",
        "  \r\n",
        "  g1 = greedy_policy(q_mc)\r\n",
        "  g2 = greedy_policy(q_sarsa)\r\n",
        "  g3 = greedy_policy(q_lear)\r\n",
        "\r\n",
        "  step_1,renf_1 = env2.perform_episode(g1,20)\r\n",
        "  step_2,renf_2 = env2.perform_episode(g2,20)\r\n",
        "  step_3,renf_3 = env2.perform_episode(g3,20)\r\n",
        "\r\n",
        "  renf_totale.append([renf_1,renf_2,renf_3])\r\n",
        "  step_totale.append([step_1,step_2,step_3])\r\n",
        "\r\n"
      ],
      "execution_count": null,
      "outputs": [
        {
          "output_type": "stream",
          "text": [
            "start\n",
            "start\n",
            "start\n",
            "start\n",
            "start\n"
          ],
          "name": "stdout"
        }
      ]
    },
    {
      "cell_type": "code",
      "metadata": {
        "colab": {
          "base_uri": "https://localhost:8080/"
        },
        "id": "lL-mINumCmr-",
        "outputId": "880b9d38-cc01-4e61-e889-0d36ef334386"
      },
      "source": [
        "q_mc\r\n"
      ],
      "execution_count": null,
      "outputs": [
        {
          "output_type": "execute_result",
          "data": {
            "text/plain": [
              "array([[0., 0., 0., 0.],\n",
              "       [0., 0., 0., 0.],\n",
              "       [0., 0., 0., 0.],\n",
              "       [0., 0., 0., 0.],\n",
              "       [0., 0., 0., 0.],\n",
              "       [0., 0., 0., 0.],\n",
              "       [0., 0., 0., 0.],\n",
              "       [0., 0., 0., 0.],\n",
              "       [0., 0., 0., 0.],\n",
              "       [0., 0., 0., 0.],\n",
              "       [0., 0., 0., 0.],\n",
              "       [0., 0., 0., 0.],\n",
              "       [0., 0., 0., 0.],\n",
              "       [0., 0., 0., 0.],\n",
              "       [0., 0., 0., 0.],\n",
              "       [0., 0., 0., 0.]])"
            ]
          },
          "metadata": {
            "tags": []
          },
          "execution_count": 303
        }
      ]
    },
    {
      "cell_type": "markdown",
      "metadata": {
        "id": "bJx8JaDbCnAS"
      },
      "source": [
        "4. Implémenter UCT et montrer ses performances"
      ]
    }
  ]
}